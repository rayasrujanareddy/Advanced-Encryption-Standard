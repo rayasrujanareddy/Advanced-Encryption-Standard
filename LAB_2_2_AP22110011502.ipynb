{
  "nbformat": 4,
  "nbformat_minor": 0,
  "metadata": {
    "colab": {
      "provenance": [],
      "authorship_tag": "ABX9TyPkGYJpNq/cZS1POwEmvdOS",
      "include_colab_link": true
    },
    "kernelspec": {
      "name": "python3",
      "display_name": "Python 3"
    },
    "language_info": {
      "name": "python"
    }
  },
  "cells": [
    {
      "cell_type": "markdown",
      "metadata": {
        "id": "view-in-github",
        "colab_type": "text"
      },
      "source": [
        "<a href=\"https://colab.research.google.com/github/rayasrujanareddy/Advanced-Encryption-Standard/blob/main/LAB_2_2_AP22110011502.ipynb\" target=\"_parent\"><img src=\"https://colab.research.google.com/assets/colab-badge.svg\" alt=\"Open In Colab\"/></a>"
      ]
    },
    {
      "cell_type": "code",
      "execution_count": 21,
      "metadata": {
        "colab": {
          "base_uri": "https://localhost:8080/"
        },
        "id": "EBdqrGqgFMTA",
        "outputId": "ef1d1d50-f548-4048-a856-fcabf42a7278"
      },
      "outputs": [
        {
          "output_type": "stream",
          "name": "stdout",
          "text": [
            "Requirement already satisfied: pycryptodome in /usr/local/lib/python3.11/dist-packages (3.21.0)\n"
          ]
        }
      ],
      "source": [
        "pip install pycryptodome"
      ]
    },
    {
      "cell_type": "markdown",
      "source": [
        "# Advanced Encryption Standard\n",
        "\n",
        "## 1) Implement AES using the available library to encrypt and decrypt a given plain text file."
      ],
      "metadata": {
        "id": "8p6vUubtdJUt"
      }
    },
    {
      "cell_type": "code",
      "source": [
        "from Crypto.Cipher import AES\n",
        "from Crypto.Util.Padding import pad, unpad\n",
        "from Crypto.Random import get_random_bytes\n",
        "import os\n",
        "\n",
        "# Function to encrypt a file using AES\n",
        "def encrypt_file(input_file, output_file, key):\n",
        "    cipher = AES.new(key, AES.MODE_CBC)  # Initialize AES cipher with CBC mode\n",
        "    with open(input_file, 'rb') as f:\n",
        "        plaintext = f.read()\n",
        "\n",
        "    # Pad the plaintext to be multiple of AES block size\n",
        "    ciphertext = cipher.encrypt(pad(plaintext, AES.block_size))\n",
        "\n",
        "    # Write IV and ciphertext to the output file\n",
        "    with open(output_file, 'wb') as f:\n",
        "        f.write(cipher.iv)  # Write the IV at the beginning\n",
        "        f.write(ciphertext)  # Write the encrypted text\n",
        "\n",
        "# Function to decrypt a file using AES\n",
        "def decrypt_file(input_file, output_file, key):\n",
        "    with open(input_file, 'rb') as f:\n",
        "        iv = f.read(16)  # Read the IV (first 16 bytes)\n",
        "        ciphertext = f.read()  # Read the rest as the ciphertext\n",
        "\n",
        "    cipher = AES.new(key, AES.MODE_CBC, iv)  # Initialize AES cipher with the IV\n",
        "\n",
        "    # Decrypt and unpad the ciphertext\n",
        "    plaintext = unpad(cipher.decrypt(ciphertext), AES.block_size)\n",
        "\n",
        "    # Write the decrypted plaintext to the output file\n",
        "    with open(output_file, 'wb') as f:\n",
        "        f.write(plaintext)\n",
        "\n",
        "# Example usage\n",
        "if __name__ == \"__main__\":\n",
        "    # Generate a random 16-byte AES key (AES-128)\n",
        "    key = get_random_bytes(16)\n",
        "\n",
        "    # Paths to input and output files\n",
        "    input_file = '/content/plain_text.txt'\n",
        "    encrypted_file = 'encrypted_file.bin'\n",
        "    decrypted_file = 'decrypted_file.txt'\n",
        "\n",
        "    # Encrypt the file\n",
        "    encrypt_file(input_file, encrypted_file, key)\n",
        "    print(f'File encrypted and saved as {encrypted_file}')\n",
        "\n",
        "    # Decrypt the file\n",
        "    decrypt_file(encrypted_file, decrypted_file, key)\n",
        "    print(f'File decrypted and saved as {decrypted_file}')\n"
      ],
      "metadata": {
        "colab": {
          "base_uri": "https://localhost:8080/"
        },
        "id": "ucxR1vr9Srmv",
        "outputId": "82ceeb26-9f9f-4fb0-bd61-31bd130b3720"
      },
      "execution_count": 22,
      "outputs": [
        {
          "output_type": "stream",
          "name": "stdout",
          "text": [
            "File encrypted and saved as encrypted_file.bin\n",
            "File decrypted and saved as decrypted_file.txt\n"
          ]
        }
      ]
    },
    {
      "cell_type": "markdown",
      "source": [
        "## 2) Extend the program (2) to encrypt and decrypt a given file."
      ],
      "metadata": {
        "id": "l58Ke6dTfTgX"
      }
    },
    {
      "cell_type": "code",
      "source": [
        "from Crypto.Cipher import AES\n",
        "from Crypto.Util.Padding import pad, unpad\n",
        "import os\n",
        "\n",
        "def encrypt_large_file(input_file, output_file, key):\n",
        "    cipher = AES.new(key, AES.MODE_CBC)\n",
        "    with open(input_file, 'rb') as f_in, open(output_file, 'wb') as f_out:\n",
        "        f_out.write(cipher.iv)\n",
        "        while chunk := f_in.read(64 * 1024):\n",
        "            f_out.write(cipher.encrypt(pad(chunk, AES.block_size)))\n",
        "\n",
        "def decrypt_large_file(input_file, output_file, key):\n",
        "    with open(input_file, 'rb') as f_in:\n",
        "        iv = f_in.read(16)\n",
        "        cipher = AES.new(key, AES.MODE_CBC, iv)\n",
        "        with open(output_file, 'wb') as f_out:\n",
        "            while chunk := f_in.read(64 * 1024):\n",
        "                f_out.write(unpad(cipher.decrypt(chunk), AES.block_size))\n",
        "\n",
        "key = os.urandom(16)\n",
        "input_file = '/content/large_image.jpg.webp'\n",
        "encrypt_large_file(input_file, 'encrypted_image.enc', key)\n",
        "decrypt_large_file('encrypted_image.enc', 'decrypted_image.jpg', key)\n"
      ],
      "metadata": {
        "id": "DujO-3Z5bbYD"
      },
      "execution_count": 23,
      "outputs": []
    }
  ]
}